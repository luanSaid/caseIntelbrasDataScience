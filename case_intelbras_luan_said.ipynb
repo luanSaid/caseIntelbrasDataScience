{
  "nbformat": 4,
  "nbformat_minor": 0,
  "metadata": {
    "colab": {
      "name": "case_intelbras_luan_said.ipynb",
      "provenance": [],
      "collapsed_sections": [],
      "mount_file_id": "11pSdAb0mFkdu2sDZ04akl3WN3vYA66Ib",
      "authorship_tag": "ABX9TyOMKmZoXDBDEqK904gQkf8Z",
      "include_colab_link": true
    },
    "kernelspec": {
      "name": "python3",
      "display_name": "Python 3"
    }
  },
  "cells": [
    {
      "cell_type": "markdown",
      "metadata": {
        "id": "view-in-github",
        "colab_type": "text"
      },
      "source": [
        "<a href=\"https://colab.research.google.com/github/luanSaid/caseIntelbrasDataScience/blob/main/case_intelbras_luan_said.ipynb\" target=\"_parent\"><img src=\"https://colab.research.google.com/assets/colab-badge.svg\" alt=\"Open In Colab\"/></a>"
      ]
    },
    {
      "cell_type": "markdown",
      "metadata": {
        "id": "_-J4Nod6sPbh"
      },
      "source": [
        "# Case - Intelbras\r\n",
        "\r\n",
        "Teste técnico desenvolvido por **Luan Said Meira** para fins avaliativos no processo seletivo para a vaga de Analista Júnior no Squade de Ciência de Dados na Intelbras."
      ]
    },
    {
      "cell_type": "markdown",
      "metadata": {
        "id": "3TdQPhqrJ_NO"
      },
      "source": [
        "# Configuração do ambiente"
      ]
    },
    {
      "cell_type": "markdown",
      "metadata": {
        "id": "PzufcNE_KFiU"
      },
      "source": [
        "**Para executar o código corretamente, modifique o valor das variáveis abaixo de acordo com o local onde se encontram os arquivos no seu computador**"
      ]
    },
    {
      "cell_type": "code",
      "metadata": {
        "id": "jb9CTvk8Kiue"
      },
      "source": [
        "INPUT_URL = '/content/drive/MyDrive/Faculdade/Estágios/Processos seletivos/Intelbras/arquivo-desafio.csv'"
      ],
      "execution_count": 3,
      "outputs": []
    },
    {
      "cell_type": "markdown",
      "metadata": {
        "id": "QGvrhJYRu0RK"
      },
      "source": [
        "# Data Wrangling"
      ]
    },
    {
      "cell_type": "code",
      "metadata": {
        "id": "Zf1DvMtTsN2W"
      },
      "source": [
        "import pandas as pd\r\n",
        "from datetime import datetime"
      ],
      "execution_count": 5,
      "outputs": []
    },
    {
      "cell_type": "code",
      "metadata": {
        "id": "Huq2UvkTsdsj"
      },
      "source": [
        "df = pd.read_csv(INPUT_URL, sep=';')\r\n",
        "df.columns = ['nome_funcionario', 'id_cargo', 'cargo', 'categoria', 'nome_unidade', 'jornada', 'situacao', 'data_admissao', 'data_desligamento'] # Rename columns"
      ],
      "execution_count": 6,
      "outputs": []
    },
    {
      "cell_type": "code",
      "metadata": {
        "id": "eGyJ3pXjuv5l"
      },
      "source": [
        "df = df.fillna(0)                       # Preenche com 0 os campos Nan (Not a Number)\r\n",
        "view = pd.DataFrame()                   # Criação de dataframe para \r\n",
        "df = df.replace('\\s+', ' ', regex=True) # Remove os espaços excedentes\r\n",
        "df.head(10)"
      ],
      "execution_count": null,
      "outputs": []
    },
    {
      "cell_type": "markdown",
      "metadata": {
        "id": "uivrUi2jAWaw"
      },
      "source": [
        "# Análise e exploração dos dados"
      ]
    },
    {
      "cell_type": "markdown",
      "metadata": {
        "id": "4dXnFzF53KI7"
      },
      "source": [
        "**Funcionários que possuem o sobrenome 'Silva'**"
      ]
    },
    {
      "cell_type": "code",
      "metadata": {
        "id": "1_oaWcc73R12"
      },
      "source": [
        "view = pd.DataFrame()\r\n",
        "view['nome_funcionario'] = df['nome_funcionario'].str.lower()                   # Transformação do campo para minúsculo\r\n",
        "view['contains_silva'] = view.nome_funcionario.str.contains(' silva')           # Verificação da ocorrência da str  \r\n",
        "qtd_silva = view[view['contains_silva'] == True].count()\r\n",
        "\r\n",
        "print('---------------------------------------------------------------------')\r\n",
        "print(f'Existem {qtd_silva[1]} funcionários que possuem o sobrenome \"Silva\", sendo esses:')\r\n",
        "print('---------------------------------------------------------------------\\n')\r\n",
        "print(view['nome_funcionario'][view['contains_silva'] == True])\r\n"
      ],
      "execution_count": null,
      "outputs": []
    },
    {
      "cell_type": "markdown",
      "metadata": {
        "id": "721s0AlOZL4_"
      },
      "source": [
        "**Funcionárias que possuem o primeiro nome \"Ana\"**"
      ]
    },
    {
      "cell_type": "code",
      "metadata": {
        "id": "-ouqBQFOPwRU"
      },
      "source": [
        "view = pd.DataFrame()\r\n",
        "view['nome_funcionario'] = df['nome_funcionario'].str.lower()                   # Transformação do campo para minúsculo\r\n",
        "view['start_with_ana'] = df.nome_funcionario.str.startswith('Ana ')             # Verificação da ocorrência da str no início\r\n",
        "qtd_ana = (view[view['start_with_ana'] == True]).count()\r\n",
        "\r\n",
        "print('----------------------------------------------------------------------')\r\n",
        "print(f'Existem {qtd_ana[1]} funcionárias que possuem o primeiro nome \"Ana\", sendo elas:')\r\n",
        "print('----------------------------------------------------------------------\\n')\r\n",
        "print(view['nome_funcionario'][view['start_with_ana'] == True])\r\n"
      ],
      "execution_count": null,
      "outputs": []
    },
    {
      "cell_type": "markdown",
      "metadata": {
        "id": "P3scDuLk3Adz"
      },
      "source": [
        "**Tipos de cargos existentes no dataset**"
      ]
    },
    {
      "cell_type": "code",
      "metadata": {
        "id": "LPcmSRrK1Dfa"
      },
      "source": [
        "view = pd.DataFrame()\r\n",
        "view['cargos_unicos'] = df['cargo'].unique()\r\n",
        "qtd_cargo = view['cargos_unicos'].count()\r\n",
        "\r\n",
        "print('-------------------------------------------------')\r\n",
        "print(f'Existem {qtd_cargo} cargos distintos na base, sendo esses:')\r\n",
        "print('-------------------------------------------------\\n')\r\n",
        "\r\n",
        "print(view['cargos_unicos'].sort_values(ascending=True))"
      ],
      "execution_count": null,
      "outputs": []
    },
    {
      "cell_type": "markdown",
      "metadata": {
        "id": "tb7fYN8CZ-lJ"
      },
      "source": [
        "**Percentual de funcionários que possuem a carga igual a 40 horas por semana**"
      ]
    },
    {
      "cell_type": "code",
      "metadata": {
        "id": "EOTlLpakaHyH"
      },
      "source": [
        "jornada = df.groupby(['jornada']).size()\r\n",
        "percentual = int(jornada['40 horas semanais']) * 100 / df.shape[0]\r\n",
        "\r\n",
        "print('------------------------------------------------------------------------------')\r\n",
        "print(f'{percentual:.2f}% dos funcionários possuem carga de trabalho igual a 40 horas por semana.')\r\n",
        "print('------------------------------------------------------------------------------')"
      ],
      "execution_count": null,
      "outputs": []
    },
    {
      "cell_type": "markdown",
      "metadata": {
        "id": "Eon3DfDCjc_u"
      },
      "source": [
        "**Nome do funcionário que possui a data de admissão em \"15/06/2012\" e data de desligamento em \"04/12/2012\"**\r\n",
        "\r\n",
        "*Observação: O registro retornado dessa consulta não possui categoria, ou seja, logo adiante ele será removido, de acordo com os exercícios propostos.*"
      ]
    },
    {
      "cell_type": "code",
      "metadata": {
        "id": "e_TV3WhjjbC_"
      },
      "source": [
        "view = pd.DataFrame() \r\n",
        "view = df.copy()                                                                # Cópia do dataframe original\r\n",
        "\r\n",
        "view.data_admissao = pd.to_datetime(view.data_admissao)                         # Conversão dos campos em datetime\r\n",
        "view.data_desligamento = pd.to_datetime(view.data_desligamento)\r\n",
        "\r\n",
        "view.data_admissao = view.data_admissao.dt.strftime('%d/%m/%Y')\r\n",
        "view.data_desligamento = view.data_desligamento.dt.strftime('%d/%m/%Y')         # Formatação de acordo com o padrão 'dia/mês/ano'\r\n",
        "\r\n",
        "search = view[(view['data_admissao'] == '15/06/2012') & (view['data_desligamento'] == '04/12/2012')]\r\n",
        "\r\n",
        "print(search['nome_funcionario'])\r\n"
      ],
      "execution_count": null,
      "outputs": []
    },
    {
      "cell_type": "markdown",
      "metadata": {
        "id": "CtfbU_Z-5XaN"
      },
      "source": [
        "**Criação da coluna chamada \"nome_situacao\" com a concatenação do campo \"nome_funcionario\" e campo \"situacao\"**"
      ]
    },
    {
      "cell_type": "code",
      "metadata": {
        "id": "5UJQn9w342J9"
      },
      "source": [
        "df['nome_situacao'] = df['nome_funcionario'] + ' - ' + df['situacao']\r\n",
        "df.head(10)"
      ],
      "execution_count": null,
      "outputs": []
    },
    {
      "cell_type": "markdown",
      "metadata": {
        "id": "0QpLEcQo6UzV"
      },
      "source": [
        "**Remoção de todos os registros que não possuam categoria**"
      ]
    },
    {
      "cell_type": "code",
      "metadata": {
        "id": "cPJ7KYEe6c0n"
      },
      "source": [
        "view = pd.DataFrame()                                                           # Criação de cópia para possível busca recuperação de dados posterior\r\n",
        "view = df.copy()\r\n",
        "\r\n",
        "view = view[view.categoria != 0]\r\n",
        "view.head(5)"
      ],
      "execution_count": null,
      "outputs": []
    },
    {
      "cell_type": "markdown",
      "metadata": {
        "id": "JyIRdCBKAu9N"
      },
      "source": [
        "**Profissionais ativos que podem se aposentar com base apenas no cargo atual**\r\n",
        "\r\n",
        "Processo ilustrativo, no qual avalia somente o tempo de contribuição era superior a 30 anos (média entre os valores de contribuição)."
      ]
    },
    {
      "cell_type": "code",
      "metadata": {
        "id": "DcezQZdeA13d"
      },
      "source": [
        "search = df.copy()\r\n",
        "now = datetime.now()\r\n",
        "\r\n",
        "search = search[search.situacao == 'Ativo']\r\n",
        "search['ano_admissao'] = search.data_admissao.str.slice(0,4,1)\r\n",
        "search['tempo_contribuicao'] = (now.year - search.ano_admissao.astype(int))\r\n",
        "\r\n",
        "\r\n",
        "result = search[(search['tempo_contribuicao'].astype(int) >= 30)]\r\n",
        "quantidade = result['nome_funcionario'].count()\r\n",
        "\r\n",
        "print(f'{quantidade} funcionários já podem se aposentar ao longo desse ano de {now.year}, abaixo seguem seus dados:')\r\n",
        "result[['nome_funcionario', 'cargo', 'data_admissao', 'tempo_contribuicao']].sort_values(by='tempo_contribuicao', ascending=False)"
      ],
      "execution_count": null,
      "outputs": []
    },
    {
      "cell_type": "markdown",
      "metadata": {
        "id": "OWgzVLmnCnQQ"
      },
      "source": [
        "**Download da nova planilha tratada**\r\n",
        "\r\n",
        "Observação: Substituir o endereço abaixo para um local de armazenamento de sua preferência"
      ]
    },
    {
      "cell_type": "code",
      "metadata": {
        "id": "MT5S8RuXCl21"
      },
      "source": [
        "view.to_csv(r'/content/drive/MyDrive/Faculdade/Estágios/Processos seletivos/Intelbras/exported_file_data.csv', header=True)"
      ],
      "execution_count": null,
      "outputs": []
    }
  ]
}